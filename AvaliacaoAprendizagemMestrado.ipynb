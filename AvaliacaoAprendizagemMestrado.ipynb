{
  "nbformat": 4,
  "nbformat_minor": 0,
  "metadata": {
    "colab": {
      "name": "AvaliacaoAprendizagemMestrado.ipynb",
      "provenance": [],
      "collapsed_sections": [],
      "authorship_tag": "ABX9TyOrOZiaycPW9ueZNT4UnKI6",
      "include_colab_link": true
    },
    "kernelspec": {
      "name": "python3",
      "display_name": "Python 3"
    },
    "language_info": {
      "name": "python"
    }
  },
  "cells": [
    {
      "cell_type": "markdown",
      "metadata": {
        "id": "view-in-github",
        "colab_type": "text"
      },
      "source": [
        "<a href=\"https://colab.research.google.com/github/rezzycavalheiro/MachineLearning/blob/main/AvaliacaoAprendizagemMestrado.ipynb\" target=\"_parent\"><img src=\"https://colab.research.google.com/assets/colab-badge.svg\" alt=\"Open In Colab\"/></a>"
      ]
    },
    {
      "cell_type": "code",
      "metadata": {
        "id": "3cS2DFtfQRvg"
      },
      "source": [
        "import pandas as pd\n",
        "import numpy as np\n",
        "import matplotlib.pyplot as plt\n",
        "import seaborn as sns\n",
        "from sklearn.metrics import f1_score\n",
        "import urllib\n",
        "from sklearn import  model_selection\n",
        "from sklearn.metrics import confusion_matrix\n",
        "from sklearn.model_selection import train_test_split"
      ],
      "execution_count": 5,
      "outputs": []
    },
    {
      "cell_type": "code",
      "metadata": {
        "colab": {
          "base_uri": "https://localhost:8080/"
        },
        "id": "0vnhcrKUPj5L",
        "outputId": "b97878c1-dea2-4695-aaf4-a431fe987678"
      },
      "source": [
        "from sklearn.datasets import load_breast_cancer\n",
        "X, y = load_breast_cancer(return_X_y=True)\n",
        "\n",
        "print(len(y))\n",
        "\n",
        "# Classe (0=maligno ou 1=benigno)\n",
        "# 30 atributos contínuos extraídos do núcleo das células em imagem de câncer de mama. \n",
        "# Tipo dos atributos: numéricos\n",
        "# Quantidade de instâncias: 569  (212 malignos e 357 benignos)\n",
        "\n",
        "# Protocolo experimental a ser utilizado: validação cruzada com 5 folds.\n"
      ],
      "execution_count": 6,
      "outputs": [
        {
          "output_type": "stream",
          "text": [
            "569\n"
          ],
          "name": "stdout"
        }
      ]
    },
    {
      "cell_type": "markdown",
      "metadata": {
        "id": "YnV7G0WWKta7"
      },
      "source": [
        "## Classificadores"
      ]
    },
    {
      "cell_type": "markdown",
      "metadata": {
        "id": "kBVE2m3Nvyr2"
      },
      "source": [
        "# Monolíticos"
      ]
    },
    {
      "cell_type": "code",
      "metadata": {
        "colab": {
          "base_uri": "https://localhost:8080/",
          "height": 614
        },
        "id": "ZsgTW2sYbvmu",
        "outputId": "ebbb2424-de93-4ec3-a851-6af0cbd29c8b"
      },
      "source": [
        "# DecisionTreeClassifier\n",
        "\n",
        "from sklearn.tree import DecisionTreeClassifier\n",
        "from sklearn import tree\n",
        "from sklearn.externals.six import StringIO \n",
        "from sklearn.tree import export_graphviz\n",
        "from IPython.display import Image  \n",
        "from IPython.display import display\n",
        "import pydotplus\n",
        "\n",
        "# USANDO VALIDAÇãO CRUZADA\n",
        "clfb = tree.DecisionTreeClassifier(criterion='entropy')\n",
        "folds = 5\n",
        "result = model_selection.cross_val_score(clfb, X, y, cv=folds)\n",
        "\n",
        "print(\"\\nResultados baseados em Validação Cruzada\")\n",
        "print(\"Quantidade folds: %d:\" % folds)\n",
        "print(\"Taxa de acerto: %.2f\" % result.mean())\n",
        "print(\"Desvio padrão: %.2f\" % result.std())\n",
        "print(\"\\n\")\n",
        "\n",
        "# Matriz de confusão da validação cruzada\n",
        "Z = model_selection.cross_val_predict(clfb, X, y, cv=folds)\n",
        "confusionMatrix = confusion_matrix(y, Z)\n",
        "print(\"Matriz de confusão:\")\n",
        "print(confusionMatrix)\n",
        "print(\"\\n\")\n",
        "\n",
        "score = f1_score(y, Z, average='weighted')\n",
        "print(\"F1 score: %.2f\" % score)\n",
        "print(\"\\n\")\n",
        "\n",
        "ax= plt.subplot()\n",
        "sns.heatmap(confusionMatrix, annot=True, fmt='g', ax=ax);  #annot=True to annotate cells, ftm='g' to disable scientific notation\n",
        "\n",
        "# Labels e título\n",
        "ax.set_xlabel('Predicted labels');ax.set_ylabel('True labels'); \n",
        "ax.set_title('Matriz de COnfusão'); \n",
        "\n",
        "\n",
        "\n"
      ],
      "execution_count": null,
      "outputs": [
        {
          "output_type": "stream",
          "text": [
            "/usr/local/lib/python3.7/dist-packages/sklearn/externals/six.py:31: FutureWarning: The module is deprecated in version 0.21 and will be removed in version 0.23 since we've dropped support for Python 2.7. Please rely on the official version of six (https://pypi.org/project/six/).\n",
            "  \"(https://pypi.org/project/six/).\", FutureWarning)\n"
          ],
          "name": "stderr"
        },
        {
          "output_type": "stream",
          "text": [
            "\n",
            "Resultados baseados em Validação Cruzada\n",
            "Quantidade folds: 5:\n",
            "Taxa de acerto: 0.93\n",
            "Desvio padrão: 0.01\n",
            "\n",
            "\n",
            "Matriz de confusão:\n",
            "[[198  14]\n",
            " [ 20 337]]\n",
            "\n",
            "\n",
            "F1 score: 0.94\n",
            "\n",
            "\n"
          ],
          "name": "stdout"
        },
        {
          "output_type": "display_data",
          "data": {
            "image/png": "[encoded data removed]",
            "text/plain": [
              "<Figure size 432x288 with 2 Axes>"
            ]
          },
          "metadata": {
            "tags": [],
            "needs_background": "light"
          }
        }
      ]
    },
    {
      "cell_type": "code",
      "metadata": {
        "colab": {
          "base_uri": "https://localhost:8080/",
          "height": 559
        },
        "id": "XCxx6clJb5Hk",
        "outputId": "01ebe393-a26c-452c-aba2-d102c5da389f"
      },
      "source": [
        "# KneighborsClassifier\n",
        "\n",
        "from sklearn.neighbors import KNeighborsClassifier\n",
        "\n",
        "# USANDO VALIDAÇÃo CRUZADA\n",
        "clfb = KNeighborsClassifier(n_neighbors=5)\n",
        "folds = 5\n",
        "result = model_selection.cross_val_score(clfb, X, y, cv=folds)\n",
        "\n",
        "print(\"\\nResultados baseados em Validação Cruzada\")\n",
        "print(\"Quantidade folds: %d:\" % folds)\n",
        "print(\"Taxa de acerto: %.2f\" % result.mean())\n",
        "print(\"Desvio padrão: %.2f\" % result.std())\n",
        "print(\"\\n\")\n",
        "\n",
        "# Matriz de confusão da validação cruzada\n",
        "Z = model_selection.cross_val_predict(clfb, X, y, cv=folds)\n",
        "confusionMatrix = confusion_matrix(y, Z)\n",
        "print(\"Matriz de confusão:\")\n",
        "print(confusionMatrix)\n",
        "print(\"\\n\")\n",
        "\n",
        "score = f1_score(y, Z, average='weighted')\n",
        "print(\"F1 score: %.2f\" % score)\n",
        "print(\"\\n\")\n",
        "\n",
        "ax= plt.subplot()\n",
        "sns.heatmap(confusionMatrix, annot=True, fmt='g', ax=ax);  #annot=True to annotate cells, ftm='g' to disable scientific notation\n",
        "\n",
        "# Labels e título\n",
        "ax.set_xlabel('Predicted labels');ax.set_ylabel('True labels'); \n",
        "ax.set_title('Matriz de COnfusão'); \n"
      ],
      "execution_count": null,
      "outputs": [
        {
          "output_type": "stream",
          "text": [
            "\n",
            "Resultados baseados em Validação Cruzada\n",
            "Quantidade folds: 5:\n",
            "Taxa de acerto: 0.93\n",
            "Desvio padrão: 0.02\n",
            "\n",
            "\n",
            "Matriz de confusão:\n",
            "[[185  27]\n",
            " [ 14 343]]\n",
            "\n",
            "\n",
            "F1 score: 0.93\n",
            "\n",
            "\n"
          ],
          "name": "stdout"
        },
        {
          "output_type": "display_data",
          "data": {
            "image/png": "[encoded data removed]",
            "text/plain": [
              "<Figure size 432x288 with 2 Axes>"
            ]
          },
          "metadata": {
            "tags": [],
            "needs_background": "light"
          }
        }
      ]
    },
    {
      "cell_type": "code",
      "metadata": {
        "colab": {
          "base_uri": "https://localhost:8080/",
          "height": 559
        },
        "id": "xV0NaAIUrCts",
        "outputId": "9a1c087f-2ffd-4ebc-cecd-fc9d7d52be02"
      },
      "source": [
        "# MLPClassifier (Multilayer Perceptron)\n",
        "\n",
        "from sklearn.neural_network import MLPClassifier\n",
        "\n",
        "# USANDO VALIDAÇÃO CRUZADA\n",
        "clfb = MLPClassifier(hidden_layer_sizes=(8), activation='logistic', max_iter=1000,\n",
        "                      solver='lbfgs', tol= 1e-10, verbose=True, early_stopping=True, validation_fraction=0.2)\n",
        "folds = 5\n",
        "result = model_selection.cross_val_score(clfb, X, y, cv=folds)\n",
        "\n",
        "print(\"\\nResultados baseados em Validação Cruzada\")\n",
        "print(\"Quantidade folds: %d:\" % folds)\n",
        "print(\"Taxa de acerto: %.2f\" % result.mean())\n",
        "print(\"Desvio padrão: %.2f\" % result.std())\n",
        "print(\"\\n\")\n",
        "\n",
        "# Matriz de confusão da validação cruzada\n",
        "Z = model_selection.cross_val_predict(clfb, X, y, cv=folds)\n",
        "confusionMatrix = confusion_matrix(y, Z)\n",
        "print(\"Matriz de confusão:\")\n",
        "print(confusionMatrix)\n",
        "print(\"\\n\")\n",
        "\n",
        "score = f1_score(y, Z, average='weighted')\n",
        "print(\"F1 score: %.2f\" % score)\n",
        "print(\"\\n\")\n",
        "\n",
        "ax= plt.subplot()\n",
        "sns.heatmap(confusionMatrix, annot=True, fmt='g', ax=ax);  #annot=True to annotate cells, ftm='g' to disable scientific notation\n",
        "\n",
        "# Labels e título\n",
        "ax.set_xlabel('Predicted labels');ax.set_ylabel('True labels'); \n",
        "ax.set_title('Matriz de COnfusão');\n"
      ],
      "execution_count": null,
      "outputs": [
        {
          "output_type": "stream",
          "text": [
            "\n",
            "Resultados baseados em Validação Cruzada\n",
            "Quantidade folds: 5:\n",
            "Taxa de acerto: 0.80\n",
            "Desvio padrão: 0.14\n",
            "\n",
            "\n",
            "Matriz de confusão:\n",
            "[[ 76 136]\n",
            " [  1 356]]\n",
            "\n",
            "\n",
            "F1 score: 0.72\n",
            "\n",
            "\n"
          ],
          "name": "stdout"
        },
        {
          "output_type": "display_data",
          "data": {
            "image/png": "[encoded data removed]",
            "text/plain": [
              "<Figure size 432x288 with 2 Axes>"
            ]
          },
          "metadata": {
            "tags": [],
            "needs_background": "light"
          }
        }
      ]
    },
    {
      "cell_type": "code",
      "metadata": {
        "colab": {
          "base_uri": "https://localhost:8080/",
          "height": 911
        },
        "id": "lsxP4sE6rHQY",
        "outputId": "1c8fd27a-859a-461c-ff28-95d5285ea424"
      },
      "source": [
        "# SVC (Máquinas de Vetor de Suporte)\n",
        "\n",
        "from sklearn.svm import SVC\n",
        "from sklearn.model_selection import GridSearchCV\n",
        "\n",
        "parameters = [\n",
        "  {'C': [0.1, 0.5, 1, 10, 100, 500, 1000], 'kernel': ['linear']},\n",
        "  {'C': [0.1, 0.5, 1, 10, 100, 500, 1000], 'gamma': [0.1, 0.001, 0.0001, 0.00001], 'kernel': ['rbf']},\n",
        " ]\n",
        "\n",
        "# USANDO VALIDAÇÃO CRUZADA\n",
        "clfb = SVC()\n",
        "clfb = GridSearchCV(clfb, parameters, scoring = 'accuracy', cv=10, iid=False)\n",
        "folds = 5\n",
        "result = model_selection.cross_val_score(clfb, X, y, cv=folds)\n",
        "\n",
        "print(\"\\nResultados baseados em Validação Cruzada\")\n",
        "print(\"Quantidade folds: %d:\" % folds)\n",
        "print(\"Taxa de acerto: %.2f\" % result.mean())\n",
        "print(\"Desvio padrão: %.2f\" % result.std())\n",
        "print(\"\\n\")\n",
        "\n",
        "# Matriz de confusão da validação cruzada\n",
        "Z = model_selection.cross_val_predict(clfb, X, y, cv=folds)\n",
        "confusionMatrix = confusion_matrix(y, Z)\n",
        "print(\"Matriz de confusão:\")\n",
        "print(confusionMatrix)\n",
        "print(\"\\n\")\n",
        "\n",
        "score = f1_score(y, Z, average='weighted')\n",
        "print(\"F1 score: %.2f\" % score)\n",
        "print(\"\\n\")\n",
        "\n",
        "ax= plt.subplot()\n",
        "sns.heatmap(confusionMatrix, annot=True, fmt='g', ax=ax);  #annot=True to annotate cells, ftm='g' to disable scientific notation\n",
        "\n",
        "# Labels e título\n",
        "ax.set_xlabel('Predicted labels');ax.set_ylabel('True labels'); \n",
        "ax.set_title('Matriz de COnfusão');\n"
      ],
      "execution_count": null,
      "outputs": [
        {
          "output_type": "stream",
          "text": [
            "/usr/local/lib/python3.7/dist-packages/sklearn/model_selection/_search.py:823: FutureWarning: The parameter 'iid' is deprecated in 0.22 and will be removed in 0.24.\n",
            "  \"removed in 0.24.\", FutureWarning\n",
            "/usr/local/lib/python3.7/dist-packages/sklearn/model_selection/_search.py:823: FutureWarning: The parameter 'iid' is deprecated in 0.22 and will be removed in 0.24.\n",
            "  \"removed in 0.24.\", FutureWarning\n",
            "/usr/local/lib/python3.7/dist-packages/sklearn/model_selection/_search.py:823: FutureWarning: The parameter 'iid' is deprecated in 0.22 and will be removed in 0.24.\n",
            "  \"removed in 0.24.\", FutureWarning\n",
            "/usr/local/lib/python3.7/dist-packages/sklearn/model_selection/_search.py:823: FutureWarning: The parameter 'iid' is deprecated in 0.22 and will be removed in 0.24.\n",
            "  \"removed in 0.24.\", FutureWarning\n",
            "/usr/local/lib/python3.7/dist-packages/sklearn/model_selection/_search.py:823: FutureWarning: The parameter 'iid' is deprecated in 0.22 and will be removed in 0.24.\n",
            "  \"removed in 0.24.\", FutureWarning\n"
          ],
          "name": "stderr"
        },
        {
          "output_type": "stream",
          "text": [
            "\n",
            "Resultados baseados em Validação Cruzada\n",
            "Quantidade folds: 5:\n",
            "Taxa de acerto: 0.94\n",
            "Desvio padrão: 0.02\n",
            "\n",
            "\n"
          ],
          "name": "stdout"
        },
        {
          "output_type": "stream",
          "text": [
            "/usr/local/lib/python3.7/dist-packages/sklearn/model_selection/_search.py:823: FutureWarning: The parameter 'iid' is deprecated in 0.22 and will be removed in 0.24.\n",
            "  \"removed in 0.24.\", FutureWarning\n",
            "/usr/local/lib/python3.7/dist-packages/sklearn/model_selection/_search.py:823: FutureWarning: The parameter 'iid' is deprecated in 0.22 and will be removed in 0.24.\n",
            "  \"removed in 0.24.\", FutureWarning\n",
            "/usr/local/lib/python3.7/dist-packages/sklearn/model_selection/_search.py:823: FutureWarning: The parameter 'iid' is deprecated in 0.22 and will be removed in 0.24.\n",
            "  \"removed in 0.24.\", FutureWarning\n",
            "/usr/local/lib/python3.7/dist-packages/sklearn/model_selection/_search.py:823: FutureWarning: The parameter 'iid' is deprecated in 0.22 and will be removed in 0.24.\n",
            "  \"removed in 0.24.\", FutureWarning\n",
            "/usr/local/lib/python3.7/dist-packages/sklearn/model_selection/_search.py:823: FutureWarning: The parameter 'iid' is deprecated in 0.22 and will be removed in 0.24.\n",
            "  \"removed in 0.24.\", FutureWarning\n"
          ],
          "name": "stderr"
        },
        {
          "output_type": "stream",
          "text": [
            "Matriz de confusão:\n",
            "[[191  21]\n",
            " [ 11 346]]\n",
            "\n",
            "\n",
            "F1 score: 0.94\n",
            "\n",
            "\n"
          ],
          "name": "stdout"
        },
        {
          "output_type": "display_data",
          "data": {
            "image/png": "[encoded data removed]",
            "text/plain": [
              "<Figure size 432x288 with 2 Axes>"
            ]
          },
          "metadata": {
            "tags": [],
            "needs_background": "light"
          }
        }
      ]
    },
    {
      "cell_type": "code",
      "metadata": {
        "colab": {
          "base_uri": "https://localhost:8080/",
          "height": 559
        },
        "id": "AKaLpirarJap",
        "outputId": "820ea710-cdbf-4470-d7c9-09d81b7896a4"
      },
      "source": [
        "# Naive Bayes\n",
        "\n",
        "from sklearn.naive_bayes import GaussianNB\n",
        "\n",
        "# USANDO VALIDAÇÃO CRUZADA\n",
        "clfb = GaussianNB()\n",
        "folds = 5\n",
        "result = model_selection.cross_val_score(clfb, X, y, cv=folds)\n",
        "\n",
        "print(\"\\nResultados baseados em Validação Cruzada\")\n",
        "print(\"Quantidade folds: %d:\" % folds)\n",
        "print(\"Taxa de acerto: %.2f\" % result.mean())\n",
        "print(\"Desvio padrão: %.2f\" % result.std())\n",
        "print(\"\\n\")\n",
        "\n",
        "# Matriz de confusão da validação cruzada\n",
        "Z = model_selection.cross_val_predict(clfb, X, y, cv=folds)\n",
        "confusionMatrix = confusion_matrix(y, Z)\n",
        "print(\"Matriz de confusão:\")\n",
        "print(confusionMatrix)\n",
        "print(\"\\n\")\n",
        "\n",
        "score = f1_score(y, Z, average='weighted')\n",
        "print(\"F1 score: %.2f\" % score)\n",
        "print(\"\\n\")\n",
        "\n",
        "ax= plt.subplot()\n",
        "sns.heatmap(confusionMatrix, annot=True, fmt='g', ax=ax);  #annot=True to annotate cells, ftm='g' to disable scientific notation\n",
        "\n",
        "# Labels e título\n",
        "ax.set_xlabel('Predicted labels');ax.set_ylabel('True labels'); \n",
        "ax.set_title('Matriz de COnfusão');\n"
      ],
      "execution_count": null,
      "outputs": [
        {
          "output_type": "stream",
          "text": [
            "\n",
            "Resultados baseados em Validação Cruzada\n",
            "Quantidade folds: 5:\n",
            "Taxa de acerto: 0.94\n",
            "Desvio padrão: 0.01\n",
            "\n",
            "\n",
            "Matriz de confusão:\n",
            "[[188  24]\n",
            " [ 11 346]]\n",
            "\n",
            "\n",
            "F1 score: 0.94\n",
            "\n",
            "\n"
          ],
          "name": "stdout"
        },
        {
          "output_type": "display_data",
          "data": {
            "image/png": "[encoded data removed]",
            "text/plain": [
              "<Figure size 432x288 with 2 Axes>"
            ]
          },
          "metadata": {
            "tags": [],
            "needs_background": "light"
          }
        }
      ]
    },
    {
      "cell_type": "markdown",
      "metadata": {
        "id": "w_7fVA4uv5Sx"
      },
      "source": [
        "# Ensemble"
      ]
    },
    {
      "cell_type": "code",
      "metadata": {
        "colab": {
          "base_uri": "https://localhost:8080/",
          "height": 559
        },
        "id": "ntzG2XQabhEQ",
        "outputId": "50c4205c-f350-47dc-a8da-64888b368cbc"
      },
      "source": [
        "# BaggingClassifier()\n",
        "\n",
        "from sklearn.svm import SVC\n",
        "from sklearn import datasets\n",
        "from sklearn.preprocessing import StandardScaler\n",
        "from sklearn.linear_model import LogisticRegression\n",
        "from sklearn.pipeline import make_pipeline\n",
        "from sklearn.ensemble import BaggingClassifier\n",
        "from sklearn.model_selection import GridSearchCV\n",
        "from sklearn.tree import DecisionTreeClassifier\n",
        "\n",
        "# USANDO VALIDAÇÃO CRUZADA\n",
        "\n",
        "pipeline = make_pipeline(StandardScaler(),\n",
        "                        LogisticRegression(random_state=1))\n",
        "\n",
        "dtc = DecisionTreeClassifier(criterion=\"entropy\")\n",
        "\n",
        "bgclassifier = BaggingClassifier(n_estimators=5,\n",
        "                                 random_state=1, n_jobs=5).fit(X, y)\n",
        "\n",
        "folds = 5\n",
        "result = model_selection.cross_val_score(bgclassifier, X, y, cv=folds)\n",
        "\n",
        "print(\"\\nResultados baseados em Validação Cruzada\")\n",
        "print(\"Quantidade folds: %d\" % folds)\n",
        "print(\"Taxa de acerto: %.2f\" % result.mean())\n",
        "print(\"Desvio padrão: %.2f\" % result.std())\n",
        "print(\"\\n\")\n",
        "\n",
        "# Matriz de confusão da validação cruzada\n",
        "Z = model_selection.cross_val_predict(bgclassifier, X, y, cv=folds)\n",
        "confusionMatrix = confusion_matrix(y, Z)\n",
        "print(\"Matriz de confusão:\")\n",
        "print(confusionMatrix)\n",
        "print(\"\\n\")\n",
        "\n",
        "score = f1_score(y, Z, average='weighted')\n",
        "print(\"F1 score: %.2f\" % score)\n",
        "print(\"\\n\")\n",
        "\n",
        "ax= plt.subplot()\n",
        "sns.heatmap(confusionMatrix, annot=True, fmt='g', ax=ax);  #annot=True to annotate cells, ftm='g' to disable scientific notation\n",
        "\n",
        "# Labels e título\n",
        "ax.set_xlabel('Labels previstos');ax.set_ylabel('Labels verdadeiros'); \n",
        "ax.set_title('Matriz de Confusão');\n"
      ],
      "execution_count": null,
      "outputs": [
        {
          "output_type": "stream",
          "text": [
            "\n",
            "Resultados baseados em Validação Cruzada\n",
            "Quantidade folds: 5\n",
            "Taxa de acerto: 0.94\n",
            "Desvio padrão: 0.02\n",
            "\n",
            "\n",
            "Matriz de confusão:\n",
            "[[195  17]\n",
            " [ 18 339]]\n",
            "\n",
            "\n",
            "F1 score: 0.94\n",
            "\n",
            "\n"
          ],
          "name": "stdout"
        },
        {
          "output_type": "display_data",
          "data": {
            "image/png": "[encoded data removed]",
            "text/plain": [
              "<Figure size 432x288 with 2 Axes>"
            ]
          },
          "metadata": {
            "tags": [],
            "needs_background": "light"
          }
        }
      ]
    },
    {
      "cell_type": "code",
      "metadata": {
        "colab": {
          "base_uri": "https://localhost:8080/",
          "height": 559
        },
        "id": "bYs5F1DLv_h2",
        "outputId": "31ddf9e8-7db1-4781-8fc3-c00ab3b3b058"
      },
      "source": [
        "# AdaBoostClassifier()\n",
        " \n",
        "from sklearn.ensemble import AdaBoostClassifier\n",
        "\n",
        "adaBoost = AdaBoostClassifier(n_estimators=90, random_state=1).fit(X, y)\n",
        "\n",
        "folds = 5\n",
        "result = model_selection.cross_val_score(adaBoost, X, y, cv=folds)\n",
        "\n",
        "print(\"\\nResultados baseados em Validação Cruzada\")\n",
        "print(\"Quantidade folds: %d:\" % folds)\n",
        "print(\"Taxa de acerto: %.2f\" % result.mean())\n",
        "print(\"Desvio padrão: %.2f\" % result.std())\n",
        "print(\"\\n\")\n",
        "\n",
        "# Matriz de confusão da validação cruzada\n",
        "Z = model_selection.cross_val_predict(adaBoost, X, y, cv=folds)\n",
        "confusionMatrix = confusion_matrix(y, Z)\n",
        "print(\"Matriz de confusão:\")\n",
        "print(confusionMatrix)\n",
        "print(\"\\n\")\n",
        "\n",
        "score = f1_score(y, Z, average='weighted')\n",
        "print(\"F1 score: %.2f\" % score)\n",
        "print(\"\\n\")\n",
        "\n",
        "ax= plt.subplot()\n",
        "sns.heatmap(confusionMatrix, annot=True, fmt='g', ax=ax);  #annot=True to annotate cells, ftm='g' to disable scientific notation\n",
        "\n",
        "# Labels e título\n",
        "ax.set_xlabel('Labels previstos');ax.set_ylabel('Labels verdadeiros'); \n",
        "ax.set_title('Matriz de Confusão');\n"
      ],
      "execution_count": 17,
      "outputs": [
        {
          "output_type": "stream",
          "text": [
            "\n",
            "Resultados baseados em Validação Cruzada\n",
            "Quantidade folds: 5:\n",
            "Taxa de acerto: 0.98\n",
            "Desvio padrão: 0.02\n",
            "\n",
            "\n",
            "Matriz de confusão:\n",
            "[[204   8]\n",
            " [  6 351]]\n",
            "\n",
            "\n",
            "F1 score: 0.98\n",
            "\n",
            "\n"
          ],
          "name": "stdout"
        },
        {
          "output_type": "display_data",
          "data": {
            "image/png": "[encoded data removed]",
            "text/plain": [
              "<Figure size 432x288 with 2 Axes>"
            ]
          },
          "metadata": {
            "tags": [],
            "needs_background": "light"
          }
        }
      ]
    },
    {
      "cell_type": "code",
      "metadata": {
        "colab": {
          "base_uri": "https://localhost:8080/",
          "height": 559
        },
        "id": "uzLdq5IXwCuZ",
        "outputId": "5a38c606-7577-4f3d-9aa7-9db4db70d4a7"
      },
      "source": [
        "# RandomForestClassifier()\n",
        "\n",
        "from sklearn.ensemble import RandomForestClassifier\n",
        "\n",
        "randomForest = RandomForestClassifier(max_depth=2, random_state=0).fit(X, y)\n",
        "\n",
        "folds = 5\n",
        "result = model_selection.cross_val_score(randomForest, X, y, cv=folds)\n",
        "\n",
        "print(\"\\nResultados baseados em Validação Cruzada\")\n",
        "print(\"Quantidade folds: %d\" % folds)\n",
        "print(\"Taxa de acerto: %.2f\" % result.mean())\n",
        "print(\"Desvio padrão: %.2f\" % result.std())\n",
        "print(\"\\n\")\n",
        "\n",
        "# Matriz de confusão da validação cruzada\n",
        "Z = model_selection.cross_val_predict(randomForest, X, y, cv=folds)\n",
        "confusionMatrix = confusion_matrix(y, Z)\n",
        "print(\"Matriz de confusão:\")\n",
        "print(confusionMatrix)\n",
        "print(\"\\n\")\n",
        "\n",
        "score = f1_score(y, Z, average='weighted')\n",
        "print(\"F1 score: %.2f\" % score)\n",
        "print(\"\\n\")\n",
        "\n",
        "ax= plt.subplot()\n",
        "sns.heatmap(confusionMatrix, annot=True, fmt='g', ax=ax);  #annot=True to annotate cells, ftm='g' to disable scientific notation\n",
        "\n",
        "# Labels e título\n",
        "ax.set_xlabel('Predicted labels');ax.set_ylabel('True labels'); \n",
        "ax.set_title('Matriz de Confusão');\n"
      ],
      "execution_count": null,
      "outputs": [
        {
          "output_type": "stream",
          "text": [
            "\n",
            "Resultados baseados em Validação Cruzada\n",
            "Quantidade folds: 5\n",
            "Taxa de acerto: 0.95\n",
            "Desvio padrão: 0.02\n",
            "\n",
            "\n",
            "Matriz de confusão:\n",
            "[[193  19]\n",
            " [ 10 347]]\n",
            "\n",
            "\n",
            "F1 score: 0.95\n",
            "\n",
            "\n"
          ],
          "name": "stdout"
        },
        {
          "output_type": "display_data",
          "data": {
            "image/png": "[encoded data removed]",
            "text/plain": [
              "<Figure size 432x288 with 2 Axes>"
            ]
          },
          "metadata": {
            "tags": [],
            "needs_background": "light"
          }
        }
      ]
    },
    {
      "cell_type": "code",
      "metadata": {
        "colab": {
          "base_uri": "https://localhost:8080/",
          "height": 1000
        },
        "id": "0143RfbxwEzV",
        "outputId": "8c841289-556d-47f3-f0bf-c4755f553308"
      },
      "source": [
        "# VotingClassifier()\n",
        "\n",
        "from sklearn.linear_model import LogisticRegression\n",
        "from sklearn.naive_bayes import GaussianNB\n",
        "from sklearn.ensemble import RandomForestClassifier, VotingClassifier\n",
        "\n",
        "clf1 = LogisticRegression(multi_class='multinomial', random_state=1)\n",
        "clf2 = RandomForestClassifier(n_estimators=50, random_state=1)\n",
        "clf3 = GaussianNB()\n",
        "\n",
        "votingC1 = VotingClassifier(estimators=[\n",
        "        ('lr', clf1), ('rf', clf2), ('gnb', clf3)], voting='hard').fit(X, y)\n",
        "\n",
        "votingC2 = VotingClassifier(estimators=[\n",
        "        ('lr', clf1), ('rf', clf2), ('gnb', clf3)], voting='soft').fit(X, y)\n",
        "\n",
        "folds = 5\n",
        "result = model_selection.cross_val_score(votingC2, X, y, cv=folds)\n",
        "\n",
        "print(\"\\nResultados baseados em Validação Cruzada\")\n",
        "print(\"Quantidade folds: %d\" % folds)\n",
        "print(\"Taxa de acerto: %.2f\" % result.mean())\n",
        "print(\"Desvio padrão: %.2f\" % result.std())\n",
        "print(\"\\n\")\n",
        "\n",
        "# Matriz de confusão da validação cruzada\n",
        "Z = model_selection.cross_val_predict(votingC2, X, y, cv=folds)\n",
        "confusionMatrix = confusion_matrix(y, Z)\n",
        "print(\"Matriz de confusão:\")\n",
        "print(confusionMatrix)\n",
        "print(\"\\n\")\n",
        "\n",
        "score = f1_score(y, Z, average='weighted')\n",
        "print(\"F1 score: %.2f\" % score)\n",
        "print(\"\\n\")\n",
        "\n",
        "ax= plt.subplot()\n",
        "sns.heatmap(confusionMatrix, annot=True, fmt='g', ax=ax);  #annot=True to annotate cells, ftm='g' to disable scientific notation\n",
        "\n",
        "# Labels e título\n",
        "ax.set_xlabel('Predicted labels');ax.set_ylabel('True labels'); \n",
        "ax.set_title('Matriz de Confusão');\n",
        "\n",
        "\n",
        "\n",
        "\n"
      ],
      "execution_count": null,
      "outputs": [
        {
          "output_type": "stream",
          "text": [
            "/usr/local/lib/python3.7/dist-packages/sklearn/linear_model/_logistic.py:940: ConvergenceWarning: lbfgs failed to converge (status=1):\n",
            "STOP: TOTAL NO. of ITERATIONS REACHED LIMIT.\n",
            "\n",
            "Increase the number of iterations (max_iter) or scale the data as shown in:\n",
            "    https://scikit-learn.org/stable/modules/preprocessing.html\n",
            "Please also refer to the documentation for alternative solver options:\n",
            "    https://scikit-learn.org/stable/modules/linear_model.html#logistic-regression\n",
            "  extra_warning_msg=_LOGISTIC_SOLVER_CONVERGENCE_MSG)\n",
            "/usr/local/lib/python3.7/dist-packages/sklearn/linear_model/_logistic.py:940: ConvergenceWarning: lbfgs failed to converge (status=1):\n",
            "STOP: TOTAL NO. of ITERATIONS REACHED LIMIT.\n",
            "\n",
            "Increase the number of iterations (max_iter) or scale the data as shown in:\n",
            "    https://scikit-learn.org/stable/modules/preprocessing.html\n",
            "Please also refer to the documentation for alternative solver options:\n",
            "    https://scikit-learn.org/stable/modules/linear_model.html#logistic-regression\n",
            "  extra_warning_msg=_LOGISTIC_SOLVER_CONVERGENCE_MSG)\n",
            "/usr/local/lib/python3.7/dist-packages/sklearn/linear_model/_logistic.py:940: ConvergenceWarning: lbfgs failed to converge (status=1):\n",
            "STOP: TOTAL NO. of ITERATIONS REACHED LIMIT.\n",
            "\n",
            "Increase the number of iterations (max_iter) or scale the data as shown in:\n",
            "    https://scikit-learn.org/stable/modules/preprocessing.html\n",
            "Please also refer to the documentation for alternative solver options:\n",
            "    https://scikit-learn.org/stable/modules/linear_model.html#logistic-regression\n",
            "  extra_warning_msg=_LOGISTIC_SOLVER_CONVERGENCE_MSG)\n",
            "/usr/local/lib/python3.7/dist-packages/sklearn/linear_model/_logistic.py:940: ConvergenceWarning: lbfgs failed to converge (status=1):\n",
            "STOP: TOTAL NO. of ITERATIONS REACHED LIMIT.\n",
            "\n",
            "Increase the number of iterations (max_iter) or scale the data as shown in:\n",
            "    https://scikit-learn.org/stable/modules/preprocessing.html\n",
            "Please also refer to the documentation for alternative solver options:\n",
            "    https://scikit-learn.org/stable/modules/linear_model.html#logistic-regression\n",
            "  extra_warning_msg=_LOGISTIC_SOLVER_CONVERGENCE_MSG)\n",
            "/usr/local/lib/python3.7/dist-packages/sklearn/linear_model/_logistic.py:940: ConvergenceWarning: lbfgs failed to converge (status=1):\n",
            "STOP: TOTAL NO. of ITERATIONS REACHED LIMIT.\n",
            "\n",
            "Increase the number of iterations (max_iter) or scale the data as shown in:\n",
            "    https://scikit-learn.org/stable/modules/preprocessing.html\n",
            "Please also refer to the documentation for alternative solver options:\n",
            "    https://scikit-learn.org/stable/modules/linear_model.html#logistic-regression\n",
            "  extra_warning_msg=_LOGISTIC_SOLVER_CONVERGENCE_MSG)\n",
            "/usr/local/lib/python3.7/dist-packages/sklearn/linear_model/_logistic.py:940: ConvergenceWarning: lbfgs failed to converge (status=1):\n",
            "STOP: TOTAL NO. of ITERATIONS REACHED LIMIT.\n",
            "\n",
            "Increase the number of iterations (max_iter) or scale the data as shown in:\n",
            "    https://scikit-learn.org/stable/modules/preprocessing.html\n",
            "Please also refer to the documentation for alternative solver options:\n",
            "    https://scikit-learn.org/stable/modules/linear_model.html#logistic-regression\n",
            "  extra_warning_msg=_LOGISTIC_SOLVER_CONVERGENCE_MSG)\n",
            "/usr/local/lib/python3.7/dist-packages/sklearn/linear_model/_logistic.py:940: ConvergenceWarning: lbfgs failed to converge (status=1):\n",
            "STOP: TOTAL NO. of ITERATIONS REACHED LIMIT.\n",
            "\n",
            "Increase the number of iterations (max_iter) or scale the data as shown in:\n",
            "    https://scikit-learn.org/stable/modules/preprocessing.html\n",
            "Please also refer to the documentation for alternative solver options:\n",
            "    https://scikit-learn.org/stable/modules/linear_model.html#logistic-regression\n",
            "  extra_warning_msg=_LOGISTIC_SOLVER_CONVERGENCE_MSG)\n",
            "/usr/local/lib/python3.7/dist-packages/sklearn/linear_model/_logistic.py:940: ConvergenceWarning: lbfgs failed to converge (status=1):\n",
            "STOP: TOTAL NO. of ITERATIONS REACHED LIMIT.\n",
            "\n",
            "Increase the number of iterations (max_iter) or scale the data as shown in:\n",
            "    https://scikit-learn.org/stable/modules/preprocessing.html\n",
            "Please also refer to the documentation for alternative solver options:\n",
            "    https://scikit-learn.org/stable/modules/linear_model.html#logistic-regression\n",
            "  extra_warning_msg=_LOGISTIC_SOLVER_CONVERGENCE_MSG)\n"
          ],
          "name": "stderr"
        },
        {
          "output_type": "stream",
          "text": [
            "\n",
            "Resultados baseados em Validação Cruzada\n",
            "Quantidade folds: 5\n",
            "Taxa de acerto: 0.95\n",
            "Desvio padrão: 0.01\n",
            "\n",
            "\n"
          ],
          "name": "stdout"
        },
        {
          "output_type": "stream",
          "text": [
            "/usr/local/lib/python3.7/dist-packages/sklearn/linear_model/_logistic.py:940: ConvergenceWarning: lbfgs failed to converge (status=1):\n",
            "STOP: TOTAL NO. of ITERATIONS REACHED LIMIT.\n",
            "\n",
            "Increase the number of iterations (max_iter) or scale the data as shown in:\n",
            "    https://scikit-learn.org/stable/modules/preprocessing.html\n",
            "Please also refer to the documentation for alternative solver options:\n",
            "    https://scikit-learn.org/stable/modules/linear_model.html#logistic-regression\n",
            "  extra_warning_msg=_LOGISTIC_SOLVER_CONVERGENCE_MSG)\n",
            "/usr/local/lib/python3.7/dist-packages/sklearn/linear_model/_logistic.py:940: ConvergenceWarning: lbfgs failed to converge (status=1):\n",
            "STOP: TOTAL NO. of ITERATIONS REACHED LIMIT.\n",
            "\n",
            "Increase the number of iterations (max_iter) or scale the data as shown in:\n",
            "    https://scikit-learn.org/stable/modules/preprocessing.html\n",
            "Please also refer to the documentation for alternative solver options:\n",
            "    https://scikit-learn.org/stable/modules/linear_model.html#logistic-regression\n",
            "  extra_warning_msg=_LOGISTIC_SOLVER_CONVERGENCE_MSG)\n",
            "/usr/local/lib/python3.7/dist-packages/sklearn/linear_model/_logistic.py:940: ConvergenceWarning: lbfgs failed to converge (status=1):\n",
            "STOP: TOTAL NO. of ITERATIONS REACHED LIMIT.\n",
            "\n",
            "Increase the number of iterations (max_iter) or scale the data as shown in:\n",
            "    https://scikit-learn.org/stable/modules/preprocessing.html\n",
            "Please also refer to the documentation for alternative solver options:\n",
            "    https://scikit-learn.org/stable/modules/linear_model.html#logistic-regression\n",
            "  extra_warning_msg=_LOGISTIC_SOLVER_CONVERGENCE_MSG)\n",
            "/usr/local/lib/python3.7/dist-packages/sklearn/linear_model/_logistic.py:940: ConvergenceWarning: lbfgs failed to converge (status=1):\n",
            "STOP: TOTAL NO. of ITERATIONS REACHED LIMIT.\n",
            "\n",
            "Increase the number of iterations (max_iter) or scale the data as shown in:\n",
            "    https://scikit-learn.org/stable/modules/preprocessing.html\n",
            "Please also refer to the documentation for alternative solver options:\n",
            "    https://scikit-learn.org/stable/modules/linear_model.html#logistic-regression\n",
            "  extra_warning_msg=_LOGISTIC_SOLVER_CONVERGENCE_MSG)\n"
          ],
          "name": "stderr"
        },
        {
          "output_type": "stream",
          "text": [
            "Matriz de confusão:\n",
            "[[193  19]\n",
            " [  8 349]]\n",
            "\n",
            "\n",
            "F1 score: 0.95\n",
            "\n",
            "\n"
          ],
          "name": "stdout"
        },
        {
          "output_type": "display_data",
          "data": {
            "image/png": "[encoded data removed]",
            "text/plain": [
              "<Figure size 432x288 with 2 Axes>"
            ]
          },
          "metadata": {
            "tags": [],
            "needs_background": "light"
          }
        }
      ]
    },
    {
      "cell_type": "markdown",
      "metadata": {
        "id": "VhIBKDPvK39l"
      },
      "source": [
        "## Regressores\n",
        "\n",
        "# Monolíticos"
      ]
    },
    {
      "cell_type": "code",
      "metadata": {
        "colab": {
          "base_uri": "https://localhost:8080/"
        },
        "id": "v-6RdZ0wPn4Z",
        "outputId": "1c4512d4-5675-42c1-d088-91e12a41289e"
      },
      "source": [
        "import pandas as pd\n",
        "import numpy as np\n",
        "import matplotlib.pyplot as plt\n",
        "import seaborn as sns\n",
        "from sklearn.metrics import f1_score\n",
        "import urllib\n",
        "from sklearn import  model_selection\n",
        "from sklearn.metrics import confusion_matrix\n",
        "from sklearn.model_selection import train_test_split\n",
        "\n",
        "from sklearn.datasets import load_diabetes\n",
        "X, y = load_diabetes(return_X_y=True)\n",
        "      \n",
        "print(len(y))\n",
        "\n"
      ],
      "execution_count": 53,
      "outputs": [
        {
          "output_type": "stream",
          "text": [
            "442\n"
          ],
          "name": "stdout"
        }
      ]
    },
    {
      "cell_type": "code",
      "metadata": {
        "colab": {
          "base_uri": "https://localhost:8080/"
        },
        "id": "aare-It9K6_7",
        "outputId": "b352618c-ef5e-4343-89a6-516f22c1f460"
      },
      "source": [
        "# DecisionTreeRegressor\n",
        "\n",
        "from sklearn.model_selection import cross_val_score\n",
        "from sklearn.tree import DecisionTreeRegressor\n",
        "from sklearn.metrics import mean_absolute_error\n",
        "\n",
        "regressor = DecisionTreeRegressor(max_depth=5, min_samples_split=30, min_samples_leaf=10, random_state=0, criterion='mae')\n",
        "\n",
        "folds = 5\n",
        "result = model_selection.cross_val_predict(regressor, X, y, cv=folds)\n",
        "\n",
        "print(\"\\nResultados baseados em Validação Cruzada\")\n",
        "print(\"Quantidade folds: %d\" % folds)\n",
        "print(\"R2 score médio: %.2f\" % (result.mean()))\n",
        "print(\"\\n\")\n",
        "\n",
        "mae = mean_absolute_error(y, result)\n",
        "print(\"MAE:  %.2f\" % mae)"
      ],
      "execution_count": 84,
      "outputs": [
        {
          "output_type": "stream",
          "text": [
            "\n",
            "Resultados baseados em Validação Cruzada\n",
            "Quantidade folds: 5\n",
            "R2 score médio: 147.07\n",
            "\n",
            "\n",
            "MAE:  50.68\n"
          ],
          "name": "stdout"
        }
      ]
    },
    {
      "cell_type": "code",
      "metadata": {
        "id": "_fomycz3LBPj",
        "colab": {
          "base_uri": "https://localhost:8080/"
        },
        "outputId": "85c00844-6d1b-424e-87bd-774d5968b6cc"
      },
      "source": [
        "# KneighborsRegressor\n",
        "\n",
        "from sklearn.neighbors import KNeighborsRegressor\n",
        "\n",
        "neigh = KNeighborsRegressor(n_neighbors=3)\n",
        "\n",
        "folds = 5\n",
        "result = model_selection.cross_val_predict(neigh, X, y, cv=folds)\n",
        "\n",
        "print(\"\\nResultados baseados em Validação Cruzada\")\n",
        "print(\"Quantidade folds: %d\" % folds)\n",
        "print(\"R2 score médio: %.2f\" % (result.mean()))\n",
        "print(\"\\n\")\n",
        "\n",
        "mae = mean_absolute_error(y, result)\n",
        "print(\"MAE:  %.2f\" % mae)\n"
      ],
      "execution_count": 81,
      "outputs": [
        {
          "output_type": "stream",
          "text": [
            "\n",
            "Resultados baseados em Validação Cruzada\n",
            "Quantidade folds: 5\n",
            "R2 score médio: 146.65\n",
            "\n",
            "\n",
            "MAE:  49.37\n"
          ],
          "name": "stdout"
        }
      ]
    },
    {
      "cell_type": "code",
      "metadata": {
        "id": "sclVpzTPLFDN",
        "colab": {
          "base_uri": "https://localhost:8080/"
        },
        "outputId": "caf46919-dc25-4305-f73c-319a916b6773"
      },
      "source": [
        "# MLPRegressor (Multilayer Perceptron)\n",
        "\n",
        "from sklearn.neural_network import MLPRegressor\n",
        "from sklearn.datasets import make_regression\n",
        "from sklearn.model_selection import train_test_split\n",
        "\n",
        "regr = MLPRegressor(random_state=1, max_iter=500)\n",
        "\n",
        "folds = 5\n",
        "result = model_selection.cross_val_predict(regr, X, y, cv=folds)\n",
        "\n",
        "print(\"\\nResultados baseados em Validação Cruzada\")\n",
        "print(\"Quantidade folds: %d\" % folds)\n",
        "print(\"R2 score médio: %.2f\" % (result.mean()))\n",
        "print(\"\\n\")\n",
        "\n",
        "mae = mean_absolute_error(y, result)\n",
        "print(\"MAE:  %.2f\" % mae)"
      ],
      "execution_count": 82,
      "outputs": [
        {
          "output_type": "stream",
          "text": [
            "/usr/local/lib/python3.7/dist-packages/sklearn/neural_network/_multilayer_perceptron.py:571: ConvergenceWarning: Stochastic Optimizer: Maximum iterations (500) reached and the optimization hasn't converged yet.\n",
            "  % self.max_iter, ConvergenceWarning)\n",
            "/usr/local/lib/python3.7/dist-packages/sklearn/neural_network/_multilayer_perceptron.py:571: ConvergenceWarning: Stochastic Optimizer: Maximum iterations (500) reached and the optimization hasn't converged yet.\n",
            "  % self.max_iter, ConvergenceWarning)\n",
            "/usr/local/lib/python3.7/dist-packages/sklearn/neural_network/_multilayer_perceptron.py:571: ConvergenceWarning: Stochastic Optimizer: Maximum iterations (500) reached and the optimization hasn't converged yet.\n",
            "  % self.max_iter, ConvergenceWarning)\n",
            "/usr/local/lib/python3.7/dist-packages/sklearn/neural_network/_multilayer_perceptron.py:571: ConvergenceWarning: Stochastic Optimizer: Maximum iterations (500) reached and the optimization hasn't converged yet.\n",
            "  % self.max_iter, ConvergenceWarning)\n"
          ],
          "name": "stderr"
        },
        {
          "output_type": "stream",
          "text": [
            "\n",
            "Resultados baseados em Validação Cruzada\n",
            "Quantidade folds: 5\n",
            "R2 score médio: 93.40\n",
            "\n",
            "\n",
            "MAE:  67.97\n"
          ],
          "name": "stdout"
        },
        {
          "output_type": "stream",
          "text": [
            "/usr/local/lib/python3.7/dist-packages/sklearn/neural_network/_multilayer_perceptron.py:571: ConvergenceWarning: Stochastic Optimizer: Maximum iterations (500) reached and the optimization hasn't converged yet.\n",
            "  % self.max_iter, ConvergenceWarning)\n"
          ],
          "name": "stderr"
        }
      ]
    },
    {
      "cell_type": "code",
      "metadata": {
        "id": "hpdtGrc3LIXj",
        "colab": {
          "base_uri": "https://localhost:8080/"
        },
        "outputId": "f0f8f217-c180-4e47-b1e5-4f400e7c97a3"
      },
      "source": [
        "# SVR (Máquinas de Vetor de Suporte).\n",
        "\n",
        "from sklearn.svm import SVR\n",
        "from sklearn.pipeline import make_pipeline\n",
        "from sklearn.preprocessing import StandardScaler\n",
        "\n",
        "regr = make_pipeline(StandardScaler(), SVR(C=1.0, epsilon=0.2))\n",
        "\n",
        "folds = 5\n",
        "result = model_selection.cross_val_predict(regr, X, y, cv=folds)\n",
        "\n",
        "print(\"\\nResultados baseados em Validação Cruzada\")\n",
        "print(\"Quantidade folds: %d\" % folds)\n",
        "print(\"R2 score médio: %.2f\" % (result.mean()))\n",
        "print(\"\\n\")\n",
        "\n",
        "mae = mean_absolute_error(y, result)\n",
        "print(\"MAE:  %.2f\" % mae)\n"
      ],
      "execution_count": 85,
      "outputs": [
        {
          "output_type": "stream",
          "text": [
            "\n",
            "Resultados baseados em Validação Cruzada\n",
            "Quantidade folds: 5\n",
            "R2 score médio: 139.08\n",
            "\n",
            "\n",
            "MAE:  58.67\n"
          ],
          "name": "stdout"
        }
      ]
    },
    {
      "cell_type": "markdown",
      "metadata": {
        "id": "3KK4BxY0LMAs"
      },
      "source": [
        "# Ensemble"
      ]
    },
    {
      "cell_type": "code",
      "metadata": {
        "id": "EsCgO-hTLP4u",
        "colab": {
          "base_uri": "https://localhost:8080/"
        },
        "outputId": "7a49eada-fa2d-43b0-ab76-142055f6b982"
      },
      "source": [
        "# BaggingRegressor()\n",
        "\n",
        "from sklearn.svm import SVR\n",
        "from sklearn.ensemble import BaggingRegressor\n",
        "from sklearn.datasets import make_regression\n",
        "\n",
        "regr = BaggingRegressor(base_estimator=SVR(),\n",
        "                        n_estimators=50, random_state=0)\n",
        "\n",
        "folds = 5\n",
        "result = model_selection.cross_val_predict(regr, X, y, cv=folds)\n",
        "\n",
        "print(\"\\nResultados baseados em Validação Cruzada\")\n",
        "print(\"Quantidade folds: %d\" % folds)\n",
        "print(\"R2 score médio: %.2f\" % (result.mean()))\n",
        "print(\"\\n\")\n",
        "\n",
        "mae = mean_absolute_error(y, result)\n",
        "print(\"MAE:  %.2f\" % mae)\n"
      ],
      "execution_count": 103,
      "outputs": [
        {
          "output_type": "stream",
          "text": [
            "\n",
            "Resultados baseados em Validação Cruzada\n",
            "Quantidade folds: 5\n",
            "R2 score médio: 140.42\n",
            "\n",
            "\n",
            "MAE:  58.79\n"
          ],
          "name": "stdout"
        }
      ]
    },
    {
      "cell_type": "code",
      "metadata": {
        "id": "DQeUKZ2dPgOF",
        "colab": {
          "base_uri": "https://localhost:8080/"
        },
        "outputId": "f40da211-8ed2-4057-9c72-7489a4d01261"
      },
      "source": [
        "# AdaBoostRegressor()\n",
        "\n",
        "from sklearn.ensemble import AdaBoostRegressor\n",
        "from sklearn.datasets import make_regression\n",
        "\n",
        "regr = AdaBoostRegressor(random_state=0, n_estimators=50)\n",
        "\n",
        "folds = 5\n",
        "result = model_selection.cross_val_predict(regr, X, y, cv=folds)\n",
        "\n",
        "print(\"\\nResultados baseados em Validação Cruzada\")\n",
        "print(\"Quantidade folds: %d\" % folds)\n",
        "print(\"R2 score médio: %.2f\" % (result.mean()))\n",
        "print(\"\\n\")\n",
        "\n",
        "mae = mean_absolute_error(y, result)\n",
        "print(\"MAE:  %.2f\" % mae)\n"
      ],
      "execution_count": 102,
      "outputs": [
        {
          "output_type": "stream",
          "text": [
            "\n",
            "Resultados baseados em Validação Cruzada\n",
            "Quantidade folds: 5\n",
            "R2 score médio: 155.67\n",
            "\n",
            "\n",
            "MAE:  47.65\n"
          ],
          "name": "stdout"
        }
      ]
    },
    {
      "cell_type": "code",
      "metadata": {
        "id": "yk7nNP2WPihn",
        "colab": {
          "base_uri": "https://localhost:8080/"
        },
        "outputId": "279080ea-baf5-44f0-bf95-d2e91e43d63e"
      },
      "source": [
        " # RandomForestRegressor()\n",
        "\n",
        "from sklearn.ensemble import RandomForestRegressor\n",
        "from sklearn.datasets import make_regression\n",
        "\n",
        "regr = RandomForestRegressor(random_state=0, n_estimators=50)\n",
        "\n",
        "folds = 5\n",
        "result = model_selection.cross_val_predict(regr, X, y, cv=folds)\n",
        "\n",
        "print(\"\\nResultados baseados em Validação Cruzada\")\n",
        "print(\"Quantidade folds: %d\" % folds)\n",
        "print(\"R2 score médio: %.2f\" % (result.mean()))\n",
        "print(\"\\n\")\n",
        "\n",
        "mae = mean_absolute_error(y, result)\n",
        "print(\"MAE:  %.2f\" % mae)\n"
      ],
      "execution_count": 101,
      "outputs": [
        {
          "output_type": "stream",
          "text": [
            "\n",
            "Resultados baseados em Validação Cruzada\n",
            "Quantidade folds: 5\n",
            "R2 score médio: 151.65\n",
            "\n",
            "\n",
            "MAE:  46.62\n"
          ],
          "name": "stdout"
        }
      ]
    },
    {
      "cell_type": "code",
      "metadata": {
        "id": "oQJgQA0-Pkyt",
        "colab": {
          "base_uri": "https://localhost:8080/"
        },
        "outputId": "b4caecc9-25c2-4f5d-f06f-49bc5d488a03"
      },
      "source": [
        "# VotingRegressor()\n",
        "\n",
        "import numpy as np\n",
        "from sklearn.linear_model import LinearRegression\n",
        "from sklearn.ensemble import RandomForestRegressor\n",
        "from sklearn.ensemble import VotingRegressor\n",
        "from sklearn.ensemble import GradientBoostingRegressor\n",
        "\n",
        "r1 = LinearRegression()\n",
        "r2 = RandomForestRegressor(n_estimators=30, random_state=0)\n",
        "reg1 = GradientBoostingRegressor(random_state=1)\n",
        "\n",
        "er = VotingRegressor([('lr', r1), ('rf', r2)])\n",
        "\n",
        "folds = 5\n",
        "result = model_selection.cross_val_predict(er, X, y, cv=folds)\n",
        "\n",
        "print(\"\\nResultados baseados em Validação Cruzada\")\n",
        "print(\"Quantidade folds: %d\" % folds)\n",
        "print(\"R2 score médio: %.2f\" % (result.mean()))\n",
        "print(\"\\n\")\n",
        "\n",
        "mae = mean_absolute_error(y, result)\n",
        "print(\"MAE:  %.2f\" % mae)"
      ],
      "execution_count": 120,
      "outputs": [
        {
          "output_type": "stream",
          "text": [
            "\n",
            "Resultados baseados em Validação Cruzada\n",
            "Quantidade folds: 5\n",
            "R2 score médio: 151.94\n",
            "\n",
            "\n",
            "MAE:  44.69\n"
          ],
          "name": "stdout"
        }
      ]
    }
  ]
}